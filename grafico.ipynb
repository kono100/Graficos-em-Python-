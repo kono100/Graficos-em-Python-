{
 "cells": [
  {
   "cell_type": "code",
   "execution_count": null,
   "metadata": {},
   "outputs": [],
   "source": [
    "# Grafico 1\n",
    "\n",
    "import matplotlib.pyplot as plt\n",
    "\n",
    "# Dados para o gráfico\n",
    "x = [1, 2, 3, 4, 5,10]\n",
    "y = [2, 4, 6, 8, 10,30]\n",
    "\n",
    "# Criar o gráfico de linha\n",
    "plt.plot(x, y)\n",
    "\n",
    "# Adicionar rótulos aos eixos\n",
    "plt.xlabel('Eixo X')\n",
    "plt.ylabel('Eixo Y')\n",
    "\n",
    "# Adicionar um título ao gráfico\n",
    "plt.title('Gráfico de Linha Simples')\n",
    "\n",
    "# Exibir o gráfico\n",
    "plt.show()\n"
   ]
  }
 ],
 "metadata": {
  "language_info": {
   "name": "python"
  }
 },
 "nbformat": 4,
 "nbformat_minor": 2
}
